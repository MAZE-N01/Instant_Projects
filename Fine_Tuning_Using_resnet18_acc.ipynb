{
 "cells": [
  {
   "cell_type": "code",
   "execution_count": 1,
   "id": "46b563f8",
   "metadata": {
    "ExecuteTime": {
     "end_time": "2024-11-25T22:14:37.624777Z",
     "start_time": "2024-11-25T22:14:32.326533Z"
    },
    "execution": {
     "iopub.execute_input": "2024-08-20T15:50:21.173827Z",
     "iopub.status.busy": "2024-08-20T15:50:21.173372Z",
     "iopub.status.idle": "2024-08-20T15:50:27.004425Z",
     "shell.execute_reply": "2024-08-20T15:50:27.003376Z"
    },
    "id": "RuB5mb7e-x4C",
    "papermill": {
     "duration": 5.849086,
     "end_time": "2024-08-20T15:50:27.007033",
     "exception": false,
     "start_time": "2024-08-20T15:50:21.157947",
     "status": "completed"
    },
    "tags": []
   },
   "outputs": [],
   "source": [
    "import torch\n",
    "from torch import nn\n",
    "import torch\n",
    "from torch.utils.data import DataLoader\n",
    "from torchvision import datasets, transforms"
   ]
  },
  {
   "cell_type": "code",
   "execution_count": null,
   "id": "e6f76061",
   "metadata": {
    "ExecuteTime": {
     "start_time": "2024-11-25T22:14:32.579Z"
    },
    "execution": {
     "iopub.execute_input": "2024-08-20T15:50:27.035265Z",
     "iopub.status.busy": "2024-08-20T15:50:27.034060Z",
     "iopub.status.idle": "2024-08-20T15:50:27.875813Z",
     "shell.execute_reply": "2024-08-20T15:50:27.874558Z"
    },
    "id": "xZrikwe1-x4E",
    "outputId": "dd28f4c4-9718-4fc4-a9c8-8be10b8806ea",
    "papermill": {
     "duration": 0.858032,
     "end_time": "2024-08-20T15:50:27.878276",
     "exception": false,
     "start_time": "2024-08-20T15:50:27.020244",
     "status": "completed"
    },
    "tags": []
   },
   "outputs": [
    {
     "name": "stderr",
     "output_type": "stream",
     "text": [
      "Downloading: \"https://download.pytorch.org/models/resnet18-f37072fd.pth\" to C:\\Users\\mazen/.cache\\torch\\hub\\checkpoints\\resnet18-f37072fd.pth\n",
      " 83%|████████████████████████████████████████████████████████████████             | 37.1M/44.7M [00:13<00:02, 3.70MB/s]"
     ]
    }
   ],
   "source": [
    "# lets try this with Classification problem\n",
    "from torchvision.models import resnet18\n",
    "from torchvision.models import ResNet18_Weights\n",
    "\n",
    "resnet18_model = resnet18(weights=ResNet18_Weights.IMAGENET1K_V1)\n",
    "\n",
    "device = 'cuda' if torch.cuda.is_available() else 'cpu'\n",
    "device\n"
   ]
  },
  {
   "cell_type": "code",
   "execution_count": null,
   "id": "529d9a43",
   "metadata": {
    "ExecuteTime": {
     "start_time": "2024-11-25T22:14:32.614Z"
    },
    "execution": {
     "iopub.execute_input": "2024-08-20T15:50:27.905698Z",
     "iopub.status.busy": "2024-08-20T15:50:27.905324Z",
     "iopub.status.idle": "2024-08-20T15:50:27.912958Z",
     "shell.execute_reply": "2024-08-20T15:50:27.912085Z"
    },
    "id": "Kf9BMqx2-x4F",
    "outputId": "c9d69254-6c6f-4309-931c-d4f295d280bf",
    "papermill": {
     "duration": 0.024127,
     "end_time": "2024-08-20T15:50:27.915118",
     "exception": false,
     "start_time": "2024-08-20T15:50:27.890991",
     "status": "completed"
    },
    "tags": []
   },
   "outputs": [],
   "source": [
    "resnet18_model"
   ]
  },
  {
   "cell_type": "code",
   "execution_count": null,
   "id": "30bb8173",
   "metadata": {
    "ExecuteTime": {
     "start_time": "2024-11-25T22:14:32.646Z"
    },
    "execution": {
     "iopub.execute_input": "2024-08-20T15:50:27.944165Z",
     "iopub.status.busy": "2024-08-20T15:50:27.943291Z",
     "iopub.status.idle": "2024-08-20T15:50:27.948913Z",
     "shell.execute_reply": "2024-08-20T15:50:27.947974Z"
    },
    "papermill": {
     "duration": 0.022746,
     "end_time": "2024-08-20T15:50:27.951170",
     "exception": false,
     "start_time": "2024-08-20T15:50:27.928424",
     "status": "completed"
    },
    "tags": []
   },
   "outputs": [],
   "source": [
    "data_transform = transforms.Compose([\n",
    "    transforms.Resize(size=(28, 28)),\n",
    "    transforms.RandomHorizontalFlip(p=0.7),\n",
    "    transforms.RandomRotation(10),  # Added rotation\n",
    "    transforms.ToTensor(),\n",
    " \n",
    "\n",
    "]) "
   ]
  },
  {
   "cell_type": "code",
   "execution_count": null,
   "id": "523989b5",
   "metadata": {
    "ExecuteTime": {
     "start_time": "2024-11-25T22:14:32.678Z"
    },
    "execution": {
     "iopub.execute_input": "2024-08-20T15:50:27.980678Z",
     "iopub.status.busy": "2024-08-20T15:50:27.980330Z",
     "iopub.status.idle": "2024-08-20T15:50:45.698941Z",
     "shell.execute_reply": "2024-08-20T15:50:45.697828Z"
    },
    "papermill": {
     "duration": 17.736578,
     "end_time": "2024-08-20T15:50:45.701529",
     "exception": false,
     "start_time": "2024-08-20T15:50:27.964951",
     "status": "completed"
    },
    "tags": []
   },
   "outputs": [],
   "source": [
    "train_data = datasets.ImageFolder(root=\"/kaggle/input/geometric-shapes-mathematics/dataset/train\",\n",
    "                                  transform=data_transform, # a transform for the data\n",
    "                                  target_transform=None) # a transform for the label/target \n",
    "\n",
    "test_data = datasets.ImageFolder(root=\"/kaggle/input/geometric-shapes-mathematics/dataset/test\",\n",
    "                                 transform=data_transform)\n",
    "\n",
    "\n",
    "validation_data = datasets.ImageFolder(root=\"/kaggle/input/geometric-shapes-mathematics/dataset/val\",\n",
    "                                 transform=data_transform)\n",
    "train_data, test_data ,validation_data"
   ]
  },
  {
   "cell_type": "code",
   "execution_count": null,
   "id": "484745ca",
   "metadata": {
    "ExecuteTime": {
     "start_time": "2024-11-25T22:14:32.711Z"
    },
    "execution": {
     "iopub.execute_input": "2024-08-20T15:50:45.730650Z",
     "iopub.status.busy": "2024-08-20T15:50:45.730296Z",
     "iopub.status.idle": "2024-08-20T15:50:45.799715Z",
     "shell.execute_reply": "2024-08-20T15:50:45.798709Z"
    },
    "papermill": {
     "duration": 0.086521,
     "end_time": "2024-08-20T15:50:45.802054",
     "exception": false,
     "start_time": "2024-08-20T15:50:45.715533",
     "status": "completed"
    },
    "tags": []
   },
   "outputs": [],
   "source": [
    "train_data[0]"
   ]
  },
  {
   "cell_type": "code",
   "execution_count": null,
   "id": "6f58b876",
   "metadata": {
    "ExecuteTime": {
     "start_time": "2024-11-25T22:14:32.745Z"
    },
    "execution": {
     "iopub.execute_input": "2024-08-20T15:50:45.831802Z",
     "iopub.status.busy": "2024-08-20T15:50:45.831411Z",
     "iopub.status.idle": "2024-08-20T15:50:45.838234Z",
     "shell.execute_reply": "2024-08-20T15:50:45.837297Z"
    },
    "papermill": {
     "duration": 0.024347,
     "end_time": "2024-08-20T15:50:45.840555",
     "exception": false,
     "start_time": "2024-08-20T15:50:45.816208",
     "status": "completed"
    },
    "tags": []
   },
   "outputs": [],
   "source": [
    "# Get class names as dict\n",
    "class_names = train_data.classes\n",
    "class_names"
   ]
  },
  {
   "cell_type": "code",
   "execution_count": null,
   "id": "aab9d224",
   "metadata": {
    "ExecuteTime": {
     "start_time": "2024-11-25T22:14:33.226Z"
    },
    "execution": {
     "iopub.execute_input": "2024-08-20T15:50:45.871789Z",
     "iopub.status.busy": "2024-08-20T15:50:45.871034Z",
     "iopub.status.idle": "2024-08-20T15:50:45.878218Z",
     "shell.execute_reply": "2024-08-20T15:50:45.877217Z"
    },
    "papermill": {
     "duration": 0.025315,
     "end_time": "2024-08-20T15:50:45.880571",
     "exception": false,
     "start_time": "2024-08-20T15:50:45.855256",
     "status": "completed"
    },
    "tags": []
   },
   "outputs": [],
   "source": [
    "# Get class names as dict\n",
    "class_dict = train_data.class_to_idx\n",
    "class_dict"
   ]
  },
  {
   "cell_type": "code",
   "execution_count": null,
   "id": "22dc61a1",
   "metadata": {
    "ExecuteTime": {
     "start_time": "2024-11-25T22:14:33.484Z"
    },
    "execution": {
     "iopub.execute_input": "2024-08-20T15:50:45.911750Z",
     "iopub.status.busy": "2024-08-20T15:50:45.911340Z",
     "iopub.status.idle": "2024-08-20T15:50:45.917920Z",
     "shell.execute_reply": "2024-08-20T15:50:45.916905Z"
    },
    "papermill": {
     "duration": 0.025108,
     "end_time": "2024-08-20T15:50:45.920378",
     "exception": false,
     "start_time": "2024-08-20T15:50:45.895270",
     "status": "completed"
    },
    "tags": []
   },
   "outputs": [],
   "source": [
    "# Check the lengths of our dataset\n",
    "len(train_data), len(test_data)"
   ]
  },
  {
   "cell_type": "code",
   "execution_count": null,
   "id": "1e261c76",
   "metadata": {
    "ExecuteTime": {
     "start_time": "2024-11-25T22:14:33.515Z"
    },
    "execution": {
     "iopub.execute_input": "2024-08-20T15:50:45.951862Z",
     "iopub.status.busy": "2024-08-20T15:50:45.950961Z",
     "iopub.status.idle": "2024-08-20T15:50:45.957191Z",
     "shell.execute_reply": "2024-08-20T15:50:45.956330Z"
    },
    "papermill": {
     "duration": 0.024032,
     "end_time": "2024-08-20T15:50:45.959462",
     "exception": false,
     "start_time": "2024-08-20T15:50:45.935430",
     "status": "completed"
    },
    "tags": []
   },
   "outputs": [],
   "source": [
    "train_data.samples[11111]"
   ]
  },
  {
   "cell_type": "code",
   "execution_count": null,
   "id": "10a781b5",
   "metadata": {
    "ExecuteTime": {
     "start_time": "2024-11-25T22:14:33.549Z"
    },
    "execution": {
     "iopub.execute_input": "2024-08-20T15:50:45.991034Z",
     "iopub.status.busy": "2024-08-20T15:50:45.990142Z",
     "iopub.status.idle": "2024-08-20T15:50:46.008211Z",
     "shell.execute_reply": "2024-08-20T15:50:46.007227Z"
    },
    "papermill": {
     "duration": 0.035991,
     "end_time": "2024-08-20T15:50:46.010689",
     "exception": false,
     "start_time": "2024-08-20T15:50:45.974698",
     "status": "completed"
    },
    "tags": []
   },
   "outputs": [],
   "source": [
    "# Index on the train_data Dataset to get a single image and label\n",
    "img, label = train_data[100][0], train_data[100][1]\n",
    "print(f\"Image tensor:\\n {img}\")\n",
    "print(f\"Image shape: {img.shape}\")\n",
    "print(f\"Image datatype: {img.dtype}\")\n",
    "print(f\"Image label: {label}\")\n",
    "print(f\"Label datatype: {type(label)}\")\n",
    "print(f\"class name: {class_names[label]}\")"
   ]
  },
  {
   "cell_type": "code",
   "execution_count": null,
   "id": "37cad58d",
   "metadata": {
    "ExecuteTime": {
     "start_time": "2024-11-25T22:14:33.584Z"
    },
    "execution": {
     "iopub.execute_input": "2024-08-20T15:50:46.042278Z",
     "iopub.status.busy": "2024-08-20T15:50:46.041313Z",
     "iopub.status.idle": "2024-08-20T15:50:46.232586Z",
     "shell.execute_reply": "2024-08-20T15:50:46.231508Z"
    },
    "papermill": {
     "duration": 0.209382,
     "end_time": "2024-08-20T15:50:46.235128",
     "exception": false,
     "start_time": "2024-08-20T15:50:46.025746",
     "status": "completed"
    },
    "tags": []
   },
   "outputs": [],
   "source": [
    "import random \n",
    "from PIL import Image\n",
    "import numpy as np\n",
    "import matplotlib.pyplot as plt\n",
    "img_permute = img.permute(1, 2, 0)\n",
    "\n",
    "# Print out different shapes\n",
    "print(f\"Original shape: {img.shape} -> [color_channels, height, width]\")\n",
    "print(f\"Image permute: {img_permute.shape} -> [height, width, color_channels]\")\n",
    "\n",
    "# Plot \n",
    "plt.figure(figsize=(12, 7))\n",
    "plt.imshow(img_permute)\n",
    "plt.axis(\"off\")\n",
    "plt.title(class_names[label], fontsize=14)"
   ]
  },
  {
   "cell_type": "code",
   "execution_count": null,
   "id": "cff56c1a",
   "metadata": {
    "ExecuteTime": {
     "start_time": "2024-11-25T22:14:33.615Z"
    },
    "execution": {
     "iopub.execute_input": "2024-08-20T15:50:46.269173Z",
     "iopub.status.busy": "2024-08-20T15:50:46.268165Z",
     "iopub.status.idle": "2024-08-20T15:50:46.277309Z",
     "shell.execute_reply": "2024-08-20T15:50:46.276305Z"
    },
    "papermill": {
     "duration": 0.028419,
     "end_time": "2024-08-20T15:50:46.279716",
     "exception": false,
     "start_time": "2024-08-20T15:50:46.251297",
     "status": "completed"
    },
    "tags": []
   },
   "outputs": [],
   "source": [
    "from torch.utils.data import DataLoader\n",
    "BATCH_SIZE=32\n",
    "train_dataloader = DataLoader(dataset=train_data,\n",
    "                              batch_size=BATCH_SIZE,\n",
    "                              num_workers=1,\n",
    "                              shuffle=True)\n",
    "\n",
    "test_dataloader = DataLoader(dataset=test_data,\n",
    "                             batch_size=BATCH_SIZE,\n",
    "                             num_workers=1,\n",
    "                             shuffle=False)\n",
    "\n",
    "train_dataloader, test_dataloader"
   ]
  },
  {
   "cell_type": "code",
   "execution_count": null,
   "id": "32bc4c71",
   "metadata": {
    "ExecuteTime": {
     "start_time": "2024-11-25T22:14:33.956Z"
    },
    "execution": {
     "iopub.execute_input": "2024-08-20T15:50:46.313260Z",
     "iopub.status.busy": "2024-08-20T15:50:46.312321Z",
     "iopub.status.idle": "2024-08-20T15:50:46.319092Z",
     "shell.execute_reply": "2024-08-20T15:50:46.318137Z"
    },
    "papermill": {
     "duration": 0.025848,
     "end_time": "2024-08-20T15:50:46.321300",
     "exception": false,
     "start_time": "2024-08-20T15:50:46.295452",
     "status": "completed"
    },
    "tags": []
   },
   "outputs": [],
   "source": [
    "len(train_dataloader), len(test_dataloader)"
   ]
  },
  {
   "cell_type": "code",
   "execution_count": null,
   "id": "06100bea",
   "metadata": {
    "ExecuteTime": {
     "start_time": "2024-11-25T22:14:34.213Z"
    },
    "execution": {
     "iopub.execute_input": "2024-08-20T15:50:46.354813Z",
     "iopub.status.busy": "2024-08-20T15:50:46.354090Z",
     "iopub.status.idle": "2024-08-20T15:50:46.844602Z",
     "shell.execute_reply": "2024-08-20T15:50:46.843212Z"
    },
    "papermill": {
     "duration": 0.509565,
     "end_time": "2024-08-20T15:50:46.846839",
     "exception": false,
     "start_time": "2024-08-20T15:50:46.337274",
     "status": "completed"
    },
    "tags": []
   },
   "outputs": [],
   "source": [
    "img, label = next(iter(train_dataloader))\n",
    "\n",
    "# Batch size will now be 1, you can change the batch size if you like\n",
    "print(f\"Image shape: {img.shape} -> [batch_size, color_channels, height, width]\")\n",
    "print(f\"Label shape: {label.shape}\")"
   ]
  },
  {
   "cell_type": "code",
   "execution_count": null,
   "id": "3052c793",
   "metadata": {
    "ExecuteTime": {
     "start_time": "2024-11-25T22:14:34.244Z"
    },
    "execution": {
     "iopub.execute_input": "2024-08-20T15:50:46.881740Z",
     "iopub.status.busy": "2024-08-20T15:50:46.880757Z",
     "iopub.status.idle": "2024-08-20T15:50:46.888387Z",
     "shell.execute_reply": "2024-08-20T15:50:46.887448Z"
    },
    "id": "7P9a_T5O-x4G",
    "outputId": "cf4abd1f-710e-4d85-94c3-be2ea6c0f9c5",
    "papermill": {
     "duration": 0.027558,
     "end_time": "2024-08-20T15:50:46.890625",
     "exception": false,
     "start_time": "2024-08-20T15:50:46.863067",
     "status": "completed"
    },
    "tags": []
   },
   "outputs": [],
   "source": [
    "resnet18_model.fc"
   ]
  },
  {
   "cell_type": "code",
   "execution_count": null,
   "id": "52d72b00",
   "metadata": {
    "ExecuteTime": {
     "start_time": "2024-11-25T22:14:34.280Z"
    },
    "execution": {
     "iopub.execute_input": "2024-08-20T15:50:46.923870Z",
     "iopub.status.busy": "2024-08-20T15:50:46.923100Z",
     "iopub.status.idle": "2024-08-20T15:50:46.929803Z",
     "shell.execute_reply": "2024-08-20T15:50:46.928813Z"
    },
    "id": "4QNq1K9j-x4G",
    "outputId": "079ec92e-b14c-4496-d22a-daf7fc7b8518",
    "papermill": {
     "duration": 0.025671,
     "end_time": "2024-08-20T15:50:46.932305",
     "exception": false,
     "start_time": "2024-08-20T15:50:46.906634",
     "status": "completed"
    },
    "tags": []
   },
   "outputs": [],
   "source": [
    "# Count the number of learnable parameters\n",
    "total_params = sum(p.numel() for p in resnet18_model.parameters() if p.requires_grad)\n",
    "\n",
    "print(\"Total number of learnable parameters:\", total_params)"
   ]
  },
  {
   "cell_type": "code",
   "execution_count": null,
   "id": "e35f3606",
   "metadata": {
    "ExecuteTime": {
     "start_time": "2024-11-25T22:14:34.313Z"
    },
    "execution": {
     "iopub.execute_input": "2024-08-20T15:50:46.965228Z",
     "iopub.status.busy": "2024-08-20T15:50:46.964290Z",
     "iopub.status.idle": "2024-08-20T15:50:46.979771Z",
     "shell.execute_reply": "2024-08-20T15:50:46.978809Z"
    },
    "id": "8nzuZaQ2-x4I",
    "outputId": "fc474758-ae50-43c0-b5ab-d9631c21e4d4",
    "papermill": {
     "duration": 0.034268,
     "end_time": "2024-08-20T15:50:46.981928",
     "exception": false,
     "start_time": "2024-08-20T15:50:46.947660",
     "status": "completed"
    },
    "tags": []
   },
   "outputs": [],
   "source": [
    "\n",
    "print(resnet18_model.fc.out_features) # -> print the out features of the resnet 18 model -> 1000 neuron\n",
    "num_features = resnet18_model.fc.in_features # this is getting the 512 neurons\n",
    "num_classes = 8\n",
    "# now lets make an trainable mlp layer\n",
    "resnet18_model.fc = nn.Sequential (\n",
    "    nn.Linear(num_features,512),\n",
    "    nn.Dropout(0.2),\n",
    "     nn.Linear(512,256),\n",
    "    nn.Linear(256,num_classes), # -> len(labels) labels according to labels\n",
    ")\n",
    "\n",
    "# we will take the fc layer after modification and print it out\n",
    "resnet18_model.fc"
   ]
  },
  {
   "cell_type": "code",
   "execution_count": null,
   "id": "6f3f31c6",
   "metadata": {
    "ExecuteTime": {
     "start_time": "2024-11-25T22:14:34.347Z"
    },
    "execution": {
     "iopub.execute_input": "2024-08-20T15:50:47.016377Z",
     "iopub.status.busy": "2024-08-20T15:50:47.015463Z",
     "iopub.status.idle": "2024-08-20T15:50:47.507882Z",
     "shell.execute_reply": "2024-08-20T15:50:47.506793Z"
    },
    "id": "1l72Pf0y-x4K",
    "outputId": "147e5b5f-0375-4238-dc5c-5660e7ef1fb1",
    "papermill": {
     "duration": 0.512293,
     "end_time": "2024-08-20T15:50:47.510298",
     "exception": false,
     "start_time": "2024-08-20T15:50:46.998005",
     "status": "completed"
    },
    "tags": []
   },
   "outputs": [],
   "source": [
    "img, label = train_data[1500][0], train_data[1500][1]\n",
    "img_permute = img.permute(1, 2, 0)\n",
    "\n",
    "label_name = class_names[label]\n",
    "image_per = img.permute(1,2,0)\n",
    "image_per.shape\n",
    "plt.imshow(image_per)\n",
    "plt.title(label_name)"
   ]
  },
  {
   "cell_type": "code",
   "execution_count": null,
   "id": "6bbff448",
   "metadata": {
    "ExecuteTime": {
     "start_time": "2024-11-25T22:14:34.676Z"
    },
    "execution": {
     "iopub.execute_input": "2024-08-20T15:50:47.546050Z",
     "iopub.status.busy": "2024-08-20T15:50:47.545120Z",
     "iopub.status.idle": "2024-08-20T15:50:47.552884Z",
     "shell.execute_reply": "2024-08-20T15:50:47.551940Z"
    },
    "id": "UtE09uNx-x4K",
    "papermill": {
     "duration": 0.028297,
     "end_time": "2024-08-20T15:50:47.555208",
     "exception": false,
     "start_time": "2024-08-20T15:50:47.526911",
     "status": "completed"
    },
    "tags": []
   },
   "outputs": [],
   "source": [
    "from torch.optim import lr_scheduler\n",
    "loss_fn = nn.CrossEntropyLoss()\n",
    "optimizer = torch.optim.Adam(resnet18_model.parameters(), lr=1e-4)\n",
    "optimizer = torch.optim.SGD(resnet18_model.parameters(), lr=0.01, momentum=0.9)\n"
   ]
  },
  {
   "cell_type": "code",
   "execution_count": null,
   "id": "aa70f40f",
   "metadata": {
    "ExecuteTime": {
     "start_time": "2024-11-25T22:14:34.931Z"
    },
    "execution": {
     "iopub.execute_input": "2024-08-20T15:50:47.591150Z",
     "iopub.status.busy": "2024-08-20T15:50:47.590483Z",
     "iopub.status.idle": "2024-08-20T15:50:47.601206Z",
     "shell.execute_reply": "2024-08-20T15:50:47.600099Z"
    },
    "id": "KFPr-vo4-x4L",
    "papermill": {
     "duration": 0.031331,
     "end_time": "2024-08-20T15:50:47.603579",
     "exception": false,
     "start_time": "2024-08-20T15:50:47.572248",
     "status": "completed"
    },
    "tags": []
   },
   "outputs": [],
   "source": [
    "from tqdm.autonotebook import tqdm\n",
    "\n",
    "def train_step(model: torch.nn.Module,\n",
    "               dataloader: torch.utils.data.DataLoader,\n",
    "               loss_fn: torch.nn.Module,\n",
    "               optimizer: torch.optim.Optimizer,\n",
    "               device: torch.device = 'cpu'):\n",
    "\n",
    "    model.train()\n",
    "    train_loss = 0\n",
    "    train_acc = 0\n",
    "\n",
    "    for batch, (X, y) in enumerate(dataloader):\n",
    "        X = X.to(device)\n",
    "        y = y.to(device)\n",
    "\n",
    "        # 1. Forward pass\n",
    "        y_pred = model(X)  # output model logits\n",
    "\n",
    "        # 2. Calculate the loss\n",
    "        loss = loss_fn(y_pred, y)\n",
    "        train_loss += loss.item()\n",
    "\n",
    "        # 3. Optimizer zero grad\n",
    "        optimizer.zero_grad()\n",
    "\n",
    "        # 4. Loss backward\n",
    "        loss.backward()\n",
    "\n",
    "        # 5. Optimizer step\n",
    "        optimizer.step()\n",
    "\n",
    "        # Calculate accuracy metric\n",
    "        y_pred_class = torch.argmax(torch.softmax(y_pred, dim=1), dim=1)\n",
    "        train_acc += (y_pred_class == y).sum().item() / len(y_pred)\n",
    "\n",
    "    # Adjust metrics to get average loss and accuracy per batch\n",
    "    train_loss = train_loss / len(dataloader)\n",
    "    train_acc = train_acc / len(dataloader)\n",
    "\n",
    "    return train_loss  ,train_acc\n"
   ]
  },
  {
   "cell_type": "code",
   "execution_count": null,
   "id": "2120a487",
   "metadata": {
    "ExecuteTime": {
     "start_time": "2024-11-25T22:14:34.969Z"
    },
    "execution": {
     "iopub.execute_input": "2024-08-20T15:50:47.639671Z",
     "iopub.status.busy": "2024-08-20T15:50:47.639285Z",
     "iopub.status.idle": "2024-08-20T15:50:47.648996Z",
     "shell.execute_reply": "2024-08-20T15:50:47.647993Z"
    },
    "id": "R85Mxjkm-x4L",
    "papermill": {
     "duration": 0.030495,
     "end_time": "2024-08-20T15:50:47.651359",
     "exception": false,
     "start_time": "2024-08-20T15:50:47.620864",
     "status": "completed"
    },
    "tags": []
   },
   "outputs": [],
   "source": [
    "def test_step(model:torch.nn.Module,\n",
    "              dataloader:torch.utils.data.DataLoader,\n",
    "              loss_fn:torch.nn.Module,\n",
    "              device : torch.device = 'cpu'):\n",
    " # Put model in eval mode\n",
    "  model.eval()\n",
    "\n",
    "  # Setup test loss and test accuracy values\n",
    "  test_loss, test_acc = 0,  0\n",
    "\n",
    "  # Turn on inference mode\n",
    "  with torch.inference_mode():\n",
    "    # Loop through DataLoader batches\n",
    "    for batch, (X, y) in enumerate(dataloader): \n",
    "      # Send data to the target device\n",
    "      X, y = X.to(device), y.to(device)\n",
    "\n",
    "      # 1. Forward pass\n",
    "      test_pred_logits = model(X)\n",
    "\n",
    "      # 2. Calculate the loss\n",
    "      loss = loss_fn(test_pred_logits, y)\n",
    "      test_loss += loss.item()\n",
    "    \n",
    "      # Calculate the accuracy\n",
    "      test_pred_labels = test_pred_logits.argmax(dim=1)\n",
    "      test_acc += ((test_pred_labels == y).sum().item()/len(test_pred_labels))\n",
    "        \n",
    "  # Adjust metrics to get average loss and accuracy per batch\n",
    "  test_loss = test_loss / len(dataloader)\n",
    "  test_acc = test_acc / len(dataloader)\n",
    "  return test_loss, test_acc"
   ]
  },
  {
   "cell_type": "code",
   "execution_count": null,
   "id": "0f2a4fa4",
   "metadata": {
    "ExecuteTime": {
     "start_time": "2024-11-25T22:14:34.995Z"
    },
    "execution": {
     "iopub.execute_input": "2024-08-20T15:50:47.686700Z",
     "iopub.status.busy": "2024-08-20T15:50:47.686332Z",
     "iopub.status.idle": "2024-08-20T15:50:47.696270Z",
     "shell.execute_reply": "2024-08-20T15:50:47.695358Z"
    },
    "papermill": {
     "duration": 0.030431,
     "end_time": "2024-08-20T15:50:47.698517",
     "exception": false,
     "start_time": "2024-08-20T15:50:47.668086",
     "status": "completed"
    },
    "tags": []
   },
   "outputs": [],
   "source": [
    "# 1. Create a train function that takes in various model parameters + optimizer + dataloaders + loss function\n",
    "def train(model: torch.nn.Module,\n",
    "          train_dataloader,\n",
    "          test_dataloader,\n",
    "          optimizer,\n",
    "          loss_fn: torch.nn.Module = nn.CrossEntropyLoss(),\n",
    "          epochs: int = 5, \n",
    "          device=device):\n",
    "  \n",
    "  # 2. Create empty results dictionary\n",
    "  results = {\"train_loss\": [],\n",
    "             \"train_acc\": [],\n",
    "             \"test_loss\": [],\n",
    "             \"test_acc\": []}\n",
    "  \n",
    "  # 3. Loop through training and testing steps for a number of epochs\n",
    "  for epoch in tqdm(range(epochs)):\n",
    "    train_loss, train_acc = train_step(model=model,\n",
    "                                       dataloader=train_dataloader,\n",
    "                                       loss_fn=loss_fn,\n",
    "                                       optimizer=optimizer,\n",
    "                                       device=device)\n",
    "    test_loss, test_acc = test_step(model=model,\n",
    "                                    dataloader=test_dataloader,\n",
    "                                    loss_fn=loss_fn,\n",
    "                                    device=device)\n",
    "    \n",
    "    # 4. Print out what's happening\n",
    "    print(f\"Epoch: {epoch} | Train loss: {train_loss:.4f} | Train acc: {train_acc:.4f} | Test loss: {test_loss:.4f} | Test acc: {test_acc:.4f}\")\n",
    "\n",
    "    # 5. Update results dictionary\n",
    "    results[\"train_loss\"].append(train_loss)\n",
    "    results[\"train_acc\"].append(train_acc)\n",
    "    results[\"test_loss\"].append(test_loss)\n",
    "    results[\"test_acc\"].append(test_acc)\n",
    "  \n",
    "  # 6. Return the filled results at the end of the epochs\n",
    "  return results"
   ]
  },
  {
   "cell_type": "code",
   "execution_count": null,
   "id": "375aea55",
   "metadata": {
    "ExecuteTime": {
     "start_time": "2024-11-25T22:14:35.031Z"
    },
    "execution": {
     "iopub.execute_input": "2024-08-20T15:50:47.732318Z",
     "iopub.status.busy": "2024-08-20T15:50:47.731905Z",
     "iopub.status.idle": "2024-08-20T15:57:51.830157Z",
     "shell.execute_reply": "2024-08-20T15:57:51.829054Z"
    },
    "id": "DBS8uXpg-x4M",
    "outputId": "e8622133-e208-4789-8951-725ed8061ad1",
    "papermill": {
     "duration": 424.135343,
     "end_time": "2024-08-20T15:57:51.849970",
     "exception": false,
     "start_time": "2024-08-20T15:50:47.714627",
     "status": "completed"
    },
    "tags": []
   },
   "outputs": [],
   "source": [
    "\n",
    "\n",
    "epochs = 10\n",
    "resnet18_model.to(device)\n",
    "\n",
    "from timeit import default_timer as timer\n",
    "start_time = timer() \n",
    "\n",
    "# Train model_0\n",
    "resnet18 = train(model=resnet18_model,\n",
    "                        train_dataloader=train_dataloader,\n",
    "                        test_dataloader=test_dataloader,\n",
    "                        optimizer=optimizer,\n",
    "                        loss_fn=loss_fn,\n",
    "                        epochs=epochs)\n",
    "\n",
    "# End the timer and print out how long it took\n",
    "end_time = timer()\n",
    "print(f\"Total training time: {end_time-start_time:.3f} seconds\")"
   ]
  },
  {
   "cell_type": "code",
   "execution_count": null,
   "id": "114ba979",
   "metadata": {
    "ExecuteTime": {
     "start_time": "2024-11-25T22:14:35.063Z"
    },
    "execution": {
     "iopub.execute_input": "2024-08-20T15:57:51.930284Z",
     "iopub.status.busy": "2024-08-20T15:57:51.929861Z",
     "iopub.status.idle": "2024-08-20T15:57:51.937672Z",
     "shell.execute_reply": "2024-08-20T15:57:51.936717Z"
    },
    "papermill": {
     "duration": 0.028066,
     "end_time": "2024-08-20T15:57:51.939905",
     "exception": false,
     "start_time": "2024-08-20T15:57:51.911839",
     "status": "completed"
    },
    "tags": []
   },
   "outputs": [],
   "source": [
    "def make_predictions(model: torch.nn.Module,\n",
    "                     data: list,\n",
    "                     device: torch.device = device):\n",
    "  pred_probs = []\n",
    "  model.to(device)\n",
    "  model.eval()\n",
    "  with torch.inference_mode():\n",
    "    for sample in data:\n",
    "      # Prepare the sample (add a batch dimension and pass to target device)\n",
    "      sample = torch.unsqueeze(sample, dim=0).to(device)\n",
    "\n",
    "      # Forward pass (model outputs raw logits)\n",
    "      pred_logit = model(sample)\n",
    "\n",
    "      # Get prediction probability (logit -> prediction probability)\n",
    "      pred_prob = torch.softmax(pred_logit.squeeze(), dim=0)\n",
    "\n",
    "      # Get pred_prob off the GPU for further calculations\n",
    "      pred_probs.append(pred_prob.cpu())\n",
    "\n",
    "  # Stack the pred_probs to turn list into a tensor\n",
    "  return torch.stack(pred_probs)"
   ]
  },
  {
   "cell_type": "code",
   "execution_count": null,
   "id": "5ae35846",
   "metadata": {
    "ExecuteTime": {
     "start_time": "2024-11-25T22:14:35.340Z"
    },
    "execution": {
     "iopub.execute_input": "2024-08-20T15:57:51.973228Z",
     "iopub.status.busy": "2024-08-20T15:57:51.972946Z",
     "iopub.status.idle": "2024-08-20T15:57:59.814759Z",
     "shell.execute_reply": "2024-08-20T15:57:59.813741Z"
    },
    "papermill": {
     "duration": 7.860966,
     "end_time": "2024-08-20T15:57:59.816932",
     "exception": false,
     "start_time": "2024-08-20T15:57:51.955966",
     "status": "completed"
    },
    "tags": []
   },
   "outputs": [],
   "source": [
    "import random\n",
    "test_samples = [] \n",
    "test_labels = []\n",
    "for sample, label in random.sample(list(test_data), k=9):\n",
    "  test_samples.append(sample)\n",
    "  test_labels.append(label)\n",
    "\n",
    "# View the first sample shape\n",
    "test_samples[1].shape , test_labels[1]"
   ]
  },
  {
   "cell_type": "code",
   "execution_count": null,
   "id": "cb9a74fe",
   "metadata": {
    "ExecuteTime": {
     "start_time": "2024-11-25T22:14:35.596Z"
    },
    "execution": {
     "iopub.execute_input": "2024-08-20T15:57:59.852970Z",
     "iopub.status.busy": "2024-08-20T15:57:59.852038Z",
     "iopub.status.idle": "2024-08-20T15:57:59.924570Z",
     "shell.execute_reply": "2024-08-20T15:57:59.923495Z"
    },
    "papermill": {
     "duration": 0.092709,
     "end_time": "2024-08-20T15:57:59.926649",
     "exception": false,
     "start_time": "2024-08-20T15:57:59.833940",
     "status": "completed"
    },
    "tags": []
   },
   "outputs": [],
   "source": [
    "pred_probs = make_predictions(model=resnet18_model,\n",
    "                              data=test_samples)\n",
    "# View first two prediction probabilities\n",
    "pred_probs[:2]"
   ]
  },
  {
   "cell_type": "code",
   "execution_count": null,
   "id": "75bc1433",
   "metadata": {
    "ExecuteTime": {
     "start_time": "2024-11-25T22:14:35.628Z"
    },
    "execution": {
     "iopub.execute_input": "2024-08-20T15:57:59.963433Z",
     "iopub.status.busy": "2024-08-20T15:57:59.962728Z",
     "iopub.status.idle": "2024-08-20T15:57:59.972396Z",
     "shell.execute_reply": "2024-08-20T15:57:59.971238Z"
    },
    "papermill": {
     "duration": 0.030903,
     "end_time": "2024-08-20T15:57:59.974541",
     "exception": false,
     "start_time": "2024-08-20T15:57:59.943638",
     "status": "completed"
    },
    "tags": []
   },
   "outputs": [],
   "source": [
    "pred_classes = pred_probs.argmax(dim=1)\n",
    "pred_classes"
   ]
  },
  {
   "cell_type": "code",
   "execution_count": null,
   "id": "dc396703",
   "metadata": {
    "ExecuteTime": {
     "start_time": "2024-11-25T22:14:35.660Z"
    },
    "execution": {
     "iopub.execute_input": "2024-08-20T15:58:00.012453Z",
     "iopub.status.busy": "2024-08-20T15:58:00.011526Z",
     "iopub.status.idle": "2024-08-20T15:58:00.018675Z",
     "shell.execute_reply": "2024-08-20T15:58:00.017629Z"
    },
    "papermill": {
     "duration": 0.028573,
     "end_time": "2024-08-20T15:58:00.020978",
     "exception": false,
     "start_time": "2024-08-20T15:57:59.992405",
     "status": "completed"
    },
    "tags": []
   },
   "outputs": [],
   "source": [
    "test_labels\n"
   ]
  },
  {
   "cell_type": "code",
   "execution_count": null,
   "id": "60bb0934",
   "metadata": {
    "ExecuteTime": {
     "start_time": "2024-11-25T22:14:35.694Z"
    },
    "execution": {
     "iopub.execute_input": "2024-08-20T15:58:00.059011Z",
     "iopub.status.busy": "2024-08-20T15:58:00.058620Z",
     "iopub.status.idle": "2024-08-20T15:58:00.911641Z",
     "shell.execute_reply": "2024-08-20T15:58:00.910681Z"
    },
    "papermill": {
     "duration": 0.87469,
     "end_time": "2024-08-20T15:58:00.914140",
     "exception": false,
     "start_time": "2024-08-20T15:58:00.039450",
     "status": "completed"
    },
    "tags": []
   },
   "outputs": [],
   "source": [
    "# Plot predictions\n",
    "plt.figure(figsize=(9, 9))\n",
    "nrows = 3\n",
    "ncols = 3\n",
    "for i, sample in enumerate(test_samples):\n",
    "  # Create subplot\n",
    "  plt.subplot(nrows, ncols, i+1)\n",
    "\n",
    "  # Plot the target image\n",
    "  sample = sample.permute(1, 2, 0) \n",
    "  plt.imshow(sample)\n",
    "\n",
    "  # Find the prediction (in text form, e.g \"Sandal\")\n",
    "  pred_label = class_names[pred_classes[i]]\n",
    "\n",
    "  # Get the truth label (in text form) \n",
    "  truth_label = class_names[test_labels[i]]\n",
    "\n",
    "  # Create a title for the plot\n",
    "  title_text = f\"Pred: {pred_label} | Truth: {truth_label}\"\n",
    "\n",
    "  # Check for equality between pred and truth and change color of title text\n",
    "  if pred_label == truth_label:\n",
    "    plt.title(title_text, fontsize=10, c=\"g\") # green text if prediction same as truth\n",
    "  else:\n",
    "    plt.title(title_text, fontsize=10, c=\"r\") \n",
    "  \n",
    "  plt.axis(False);"
   ]
  },
  {
   "cell_type": "code",
   "execution_count": null,
   "id": "76eec1a0",
   "metadata": {
    "ExecuteTime": {
     "start_time": "2024-11-25T22:14:35.726Z"
    },
    "execution": {
     "iopub.execute_input": "2024-08-20T15:58:00.951733Z",
     "iopub.status.busy": "2024-08-20T15:58:00.951319Z",
     "iopub.status.idle": "2024-08-20T15:58:01.055076Z",
     "shell.execute_reply": "2024-08-20T15:58:01.054230Z"
    },
    "papermill": {
     "duration": 0.125261,
     "end_time": "2024-08-20T15:58:01.057523",
     "exception": false,
     "start_time": "2024-08-20T15:58:00.932262",
     "status": "completed"
    },
    "tags": []
   },
   "outputs": [],
   "source": [
    "# Save the model's state dictionary\n",
    "torch.save(resnet18_model.state_dict(), 'resnet18_pretrained.pth')"
   ]
  },
  {
   "cell_type": "code",
   "execution_count": null,
   "id": "a6005fc4",
   "metadata": {},
   "outputs": [],
   "source": []
  }
 ],
 "metadata": {
  "accelerator": "GPU",
  "colab": {
   "gpuType": "T4",
   "provenance": []
  },
  "kaggle": {
   "accelerator": "gpu",
   "dataSources": [
    {
     "datasetId": 1557864,
     "sourceId": 3717241,
     "sourceType": "datasetVersion"
    }
   ],
   "dockerImageVersionId": 30746,
   "isGpuEnabled": true,
   "isInternetEnabled": true,
   "language": "python",
   "sourceType": "notebook"
  },
  "kernelspec": {
   "display_name": "Python 3 (ipykernel)",
   "language": "python",
   "name": "python3"
  },
  "language_info": {
   "codemirror_mode": {
    "name": "ipython",
    "version": 3
   },
   "file_extension": ".py",
   "mimetype": "text/x-python",
   "name": "python",
   "nbconvert_exporter": "python",
   "pygments_lexer": "ipython3",
   "version": "3.11.5"
  },
  "papermill": {
   "default_parameters": {},
   "duration": 465.479747,
   "end_time": "2024-08-20T15:58:03.600268",
   "environment_variables": {},
   "exception": null,
   "input_path": "__notebook__.ipynb",
   "output_path": "__notebook__.ipynb",
   "parameters": {},
   "start_time": "2024-08-20T15:50:18.120521",
   "version": "2.5.0"
  },
  "widgets": {
   "application/vnd.jupyter.widget-state+json": {
    "state": {
     "141db52c47734d30956e8da2ddd88803": {
      "model_module": "@jupyter-widgets/controls",
      "model_module_version": "1.5.0",
      "model_name": "DescriptionStyleModel",
      "state": {
       "_model_module": "@jupyter-widgets/controls",
       "_model_module_version": "1.5.0",
       "_model_name": "DescriptionStyleModel",
       "_view_count": null,
       "_view_module": "@jupyter-widgets/base",
       "_view_module_version": "1.2.0",
       "_view_name": "StyleView",
       "description_width": ""
      }
     },
     "237781c967ff483a928a6090c4800469": {
      "model_module": "@jupyter-widgets/controls",
      "model_module_version": "1.5.0",
      "model_name": "FloatProgressModel",
      "state": {
       "_dom_classes": [],
       "_model_module": "@jupyter-widgets/controls",
       "_model_module_version": "1.5.0",
       "_model_name": "FloatProgressModel",
       "_view_count": null,
       "_view_module": "@jupyter-widgets/controls",
       "_view_module_version": "1.5.0",
       "_view_name": "ProgressView",
       "bar_style": "success",
       "description": "",
       "description_tooltip": null,
       "layout": "IPY_MODEL_e120e232aff64426af61822f46f027de",
       "max": 10,
       "min": 0,
       "orientation": "horizontal",
       "style": "IPY_MODEL_642d6bb24ad542469db61e9d96948b4f",
       "value": 10
      }
     },
     "2d02a2e64dcd4312816f4576ac91a9d2": {
      "model_module": "@jupyter-widgets/base",
      "model_module_version": "1.2.0",
      "model_name": "LayoutModel",
      "state": {
       "_model_module": "@jupyter-widgets/base",
       "_model_module_version": "1.2.0",
       "_model_name": "LayoutModel",
       "_view_count": null,
       "_view_module": "@jupyter-widgets/base",
       "_view_module_version": "1.2.0",
       "_view_name": "LayoutView",
       "align_content": null,
       "align_items": null,
       "align_self": null,
       "border": null,
       "bottom": null,
       "display": null,
       "flex": null,
       "flex_flow": null,
       "grid_area": null,
       "grid_auto_columns": null,
       "grid_auto_flow": null,
       "grid_auto_rows": null,
       "grid_column": null,
       "grid_gap": null,
       "grid_row": null,
       "grid_template_areas": null,
       "grid_template_columns": null,
       "grid_template_rows": null,
       "height": null,
       "justify_content": null,
       "justify_items": null,
       "left": null,
       "margin": null,
       "max_height": null,
       "max_width": null,
       "min_height": null,
       "min_width": null,
       "object_fit": null,
       "object_position": null,
       "order": null,
       "overflow": null,
       "overflow_x": null,
       "overflow_y": null,
       "padding": null,
       "right": null,
       "top": null,
       "visibility": null,
       "width": null
      }
     },
     "3c905b91ad3546909aabcee913341a37": {
      "model_module": "@jupyter-widgets/controls",
      "model_module_version": "1.5.0",
      "model_name": "DescriptionStyleModel",
      "state": {
       "_model_module": "@jupyter-widgets/controls",
       "_model_module_version": "1.5.0",
       "_model_name": "DescriptionStyleModel",
       "_view_count": null,
       "_view_module": "@jupyter-widgets/base",
       "_view_module_version": "1.2.0",
       "_view_name": "StyleView",
       "description_width": ""
      }
     },
     "61b44dd09dbb4d9c974c8cef32ea75ff": {
      "model_module": "@jupyter-widgets/base",
      "model_module_version": "1.2.0",
      "model_name": "LayoutModel",
      "state": {
       "_model_module": "@jupyter-widgets/base",
       "_model_module_version": "1.2.0",
       "_model_name": "LayoutModel",
       "_view_count": null,
       "_view_module": "@jupyter-widgets/base",
       "_view_module_version": "1.2.0",
       "_view_name": "LayoutView",
       "align_content": null,
       "align_items": null,
       "align_self": null,
       "border": null,
       "bottom": null,
       "display": null,
       "flex": null,
       "flex_flow": null,
       "grid_area": null,
       "grid_auto_columns": null,
       "grid_auto_flow": null,
       "grid_auto_rows": null,
       "grid_column": null,
       "grid_gap": null,
       "grid_row": null,
       "grid_template_areas": null,
       "grid_template_columns": null,
       "grid_template_rows": null,
       "height": null,
       "justify_content": null,
       "justify_items": null,
       "left": null,
       "margin": null,
       "max_height": null,
       "max_width": null,
       "min_height": null,
       "min_width": null,
       "object_fit": null,
       "object_position": null,
       "order": null,
       "overflow": null,
       "overflow_x": null,
       "overflow_y": null,
       "padding": null,
       "right": null,
       "top": null,
       "visibility": null,
       "width": null
      }
     },
     "642d6bb24ad542469db61e9d96948b4f": {
      "model_module": "@jupyter-widgets/controls",
      "model_module_version": "1.5.0",
      "model_name": "ProgressStyleModel",
      "state": {
       "_model_module": "@jupyter-widgets/controls",
       "_model_module_version": "1.5.0",
       "_model_name": "ProgressStyleModel",
       "_view_count": null,
       "_view_module": "@jupyter-widgets/base",
       "_view_module_version": "1.2.0",
       "_view_name": "StyleView",
       "bar_color": null,
       "description_width": ""
      }
     },
     "75dde296c94846168223c53bbbea4b31": {
      "model_module": "@jupyter-widgets/controls",
      "model_module_version": "1.5.0",
      "model_name": "HTMLModel",
      "state": {
       "_dom_classes": [],
       "_model_module": "@jupyter-widgets/controls",
       "_model_module_version": "1.5.0",
       "_model_name": "HTMLModel",
       "_view_count": null,
       "_view_module": "@jupyter-widgets/controls",
       "_view_module_version": "1.5.0",
       "_view_name": "HTMLView",
       "description": "",
       "description_tooltip": null,
       "layout": "IPY_MODEL_61b44dd09dbb4d9c974c8cef32ea75ff",
       "placeholder": "​",
       "style": "IPY_MODEL_3c905b91ad3546909aabcee913341a37",
       "value": "100%"
      }
     },
     "91cfe58f000a45678d0b6de1bd9e5710": {
      "model_module": "@jupyter-widgets/controls",
      "model_module_version": "1.5.0",
      "model_name": "HTMLModel",
      "state": {
       "_dom_classes": [],
       "_model_module": "@jupyter-widgets/controls",
       "_model_module_version": "1.5.0",
       "_model_name": "HTMLModel",
       "_view_count": null,
       "_view_module": "@jupyter-widgets/controls",
       "_view_module_version": "1.5.0",
       "_view_name": "HTMLView",
       "description": "",
       "description_tooltip": null,
       "layout": "IPY_MODEL_d399aa671cdd4516bd2283cc7a9c6fd2",
       "placeholder": "​",
       "style": "IPY_MODEL_141db52c47734d30956e8da2ddd88803",
       "value": " 10/10 [07:03&lt;00:00, 32.86s/it]"
      }
     },
     "93ffca83854747d5b1380784ec058b48": {
      "model_module": "@jupyter-widgets/controls",
      "model_module_version": "1.5.0",
      "model_name": "HBoxModel",
      "state": {
       "_dom_classes": [],
       "_model_module": "@jupyter-widgets/controls",
       "_model_module_version": "1.5.0",
       "_model_name": "HBoxModel",
       "_view_count": null,
       "_view_module": "@jupyter-widgets/controls",
       "_view_module_version": "1.5.0",
       "_view_name": "HBoxView",
       "box_style": "",
       "children": [
        "IPY_MODEL_75dde296c94846168223c53bbbea4b31",
        "IPY_MODEL_237781c967ff483a928a6090c4800469",
        "IPY_MODEL_91cfe58f000a45678d0b6de1bd9e5710"
       ],
       "layout": "IPY_MODEL_2d02a2e64dcd4312816f4576ac91a9d2"
      }
     },
     "d399aa671cdd4516bd2283cc7a9c6fd2": {
      "model_module": "@jupyter-widgets/base",
      "model_module_version": "1.2.0",
      "model_name": "LayoutModel",
      "state": {
       "_model_module": "@jupyter-widgets/base",
       "_model_module_version": "1.2.0",
       "_model_name": "LayoutModel",
       "_view_count": null,
       "_view_module": "@jupyter-widgets/base",
       "_view_module_version": "1.2.0",
       "_view_name": "LayoutView",
       "align_content": null,
       "align_items": null,
       "align_self": null,
       "border": null,
       "bottom": null,
       "display": null,
       "flex": null,
       "flex_flow": null,
       "grid_area": null,
       "grid_auto_columns": null,
       "grid_auto_flow": null,
       "grid_auto_rows": null,
       "grid_column": null,
       "grid_gap": null,
       "grid_row": null,
       "grid_template_areas": null,
       "grid_template_columns": null,
       "grid_template_rows": null,
       "height": null,
       "justify_content": null,
       "justify_items": null,
       "left": null,
       "margin": null,
       "max_height": null,
       "max_width": null,
       "min_height": null,
       "min_width": null,
       "object_fit": null,
       "object_position": null,
       "order": null,
       "overflow": null,
       "overflow_x": null,
       "overflow_y": null,
       "padding": null,
       "right": null,
       "top": null,
       "visibility": null,
       "width": null
      }
     },
     "e120e232aff64426af61822f46f027de": {
      "model_module": "@jupyter-widgets/base",
      "model_module_version": "1.2.0",
      "model_name": "LayoutModel",
      "state": {
       "_model_module": "@jupyter-widgets/base",
       "_model_module_version": "1.2.0",
       "_model_name": "LayoutModel",
       "_view_count": null,
       "_view_module": "@jupyter-widgets/base",
       "_view_module_version": "1.2.0",
       "_view_name": "LayoutView",
       "align_content": null,
       "align_items": null,
       "align_self": null,
       "border": null,
       "bottom": null,
       "display": null,
       "flex": null,
       "flex_flow": null,
       "grid_area": null,
       "grid_auto_columns": null,
       "grid_auto_flow": null,
       "grid_auto_rows": null,
       "grid_column": null,
       "grid_gap": null,
       "grid_row": null,
       "grid_template_areas": null,
       "grid_template_columns": null,
       "grid_template_rows": null,
       "height": null,
       "justify_content": null,
       "justify_items": null,
       "left": null,
       "margin": null,
       "max_height": null,
       "max_width": null,
       "min_height": null,
       "min_width": null,
       "object_fit": null,
       "object_position": null,
       "order": null,
       "overflow": null,
       "overflow_x": null,
       "overflow_y": null,
       "padding": null,
       "right": null,
       "top": null,
       "visibility": null,
       "width": null
      }
     }
    },
    "version_major": 2,
    "version_minor": 0
   }
  }
 },
 "nbformat": 4,
 "nbformat_minor": 5
}
